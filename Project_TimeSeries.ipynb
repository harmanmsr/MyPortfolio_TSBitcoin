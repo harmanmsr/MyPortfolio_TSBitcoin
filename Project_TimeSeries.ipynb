{
 "cells": [
  {
   "cell_type": "markdown",
   "metadata": {},
   "source": [
    "# Project Time Series"
   ]
  },
  {
   "cell_type": "markdown",
   "metadata": {},
   "source": [
    "In this notebook, I show my project on Time Series on Bitcoin using data from Yahoo Finance."
   ]
  },
  {
   "cell_type": "markdown",
   "metadata": {},
   "source": [
    "# Yahoo Finance Dataset"
   ]
  },
  {
   "cell_type": "markdown",
   "metadata": {},
   "source": [
    "You can access Yahoo Finance by visiting the link below:\n",
    "\n",
    "\n",
    "\n",
    "> https://finance.yahoo.com/quote/BTC-USD\n",
    "\n",
    "This link will take you to a web page with a collection of Bitcoin-like market data that you can use in your project/research.\n",
    "\n",
    "\n",
    "\n",
    "<img src=\"yahoo.png\" width=80%><br/>\n",
    "\n",
    "\n",
    "To search for a specific data set, use the search bar at the top of the screen. For example, let's say you want to search the Ethereum marketplace or a meme coin like Doge coin\n",
    "\n",
    "<img src=\"yahoo2.png\" width=80%><br/>\n",
    "\n",
    "And finally, when you want to download data, go to the \"Historical Data\" tab and select the time you want to download. For example, select early 2020 to early 2023, then we click \"Apply\", then the time will change. After that, click \"Download\" to download the data."
   ]
  },
  {
   "cell_type": "markdown",
   "metadata": {},
   "source": [
    "### Import Library"
   ]
  },
  {
   "cell_type": "markdown",
   "metadata": {},
   "source": [
    "This section imports the necessary libraries, including\n",
    "\n",
    "1.  NumPy: A library that provides support for numerical operations and multidimensional arrays. Used for numerical data manipulation and processing.\n",
    "2. Pandas: A library used for data manipulation and analysis. Pandas provides powerful data structures such as DataFrame, which makes it easy to process and transform data.\n",
    "3. Matplotlib: A library for data visualization. Matplotlib allows the creation of various types of graphs and plots that aid in the understanding and visualization of data.\n",
    "4. Scikit-learn: A library that provides various algorithms and functions for machine learning. Scikit-learn has features for data processing, modeling, evaluation, and model validation.\n",
    "    - Sklearn.preprocessing: A module in scikit-learn that is used to perform data preprocessing such as scaling, encoding, and other processing before modeling.\n",
    "    - Sklearn.metrics: A module in scikit-learn that provides various evaluation metrics to measure model performance, such as Mean Absolute Error (MAE), Root Mean Squared Error (RMSE), and others.\n",
    "5. TensorFlow: An open-source library developed by Google for machine learning and deep learning. TensorFlow provides tools to build and train neural network models efficiently."
   ]
  },
  {
   "cell_type": "code",
   "execution_count": 1,
   "metadata": {
    "id": "s0iEN1eSVMqV"
   },
   "outputs": [],
   "source": [
    "# Currently Python version that I am using is Python 3.10\n",
    "\n",
    "import numpy as np # linear algebra\n",
    "import pandas as pd # data processing, CSV file I/O (e.g. pd.read_csv)\n",
    "import matplotlib.pyplot as plt # plotting the model\n",
    "\n",
    "from sklearn.preprocessing import MinMaxScaler\n",
    "from tensorflow.keras.models import Sequential \n",
    "from tensorflow.keras.layers import LSTM, Dense \n",
    "from tensorflow.keras.optimizers import Adam\n",
    "from tensorflow.keras.metrics import MeanAbsoluteError\n",
    "\n",
    "import warnings\n",
    "warnings.filterwarnings('ignore') # ignoring any warning messages"
   ]
  },
  {
   "cell_type": "markdown",
   "metadata": {},
   "source": [
    "### Data Loading and Preprocessing"
   ]
  },
  {
   "cell_type": "markdown",
   "metadata": {},
   "source": [
    "In this section, there is data analysis and preprocessing first before scaling, creating sequence models, and training models."
   ]
  },
  {
   "cell_type": "markdown",
   "metadata": {},
   "source": [
    "- **```pd.read_csv```** is used to read data with a .csv formatted file.\n",
    "- **```tail()```** this method returns the specified number of last rows."
   ]
  },
  {
   "cell_type": "code",
   "execution_count": 2,
   "metadata": {
    "id": "WhMzVVx5VOlt"
   },
   "outputs": [
    {
     "data": {
      "text/html": [
       "<div>\n",
       "<style scoped>\n",
       "    .dataframe tbody tr th:only-of-type {\n",
       "        vertical-align: middle;\n",
       "    }\n",
       "\n",
       "    .dataframe tbody tr th {\n",
       "        vertical-align: top;\n",
       "    }\n",
       "\n",
       "    .dataframe thead th {\n",
       "        text-align: right;\n",
       "    }\n",
       "</style>\n",
       "<table border=\"1\" class=\"dataframe\">\n",
       "  <thead>\n",
       "    <tr style=\"text-align: right;\">\n",
       "      <th></th>\n",
       "      <th>Date</th>\n",
       "      <th>Open</th>\n",
       "      <th>High</th>\n",
       "      <th>Low</th>\n",
       "      <th>Close</th>\n",
       "      <th>Adj Close</th>\n",
       "      <th>Volume</th>\n",
       "    </tr>\n",
       "  </thead>\n",
       "  <tbody>\n",
       "    <tr>\n",
       "      <th>1092</th>\n",
       "      <td>2022-12-28</td>\n",
       "      <td>16716.400391</td>\n",
       "      <td>16768.169922</td>\n",
       "      <td>16497.556641</td>\n",
       "      <td>16552.572266</td>\n",
       "      <td>16552.572266</td>\n",
       "      <td>17005713920</td>\n",
       "    </tr>\n",
       "    <tr>\n",
       "      <th>1093</th>\n",
       "      <td>2022-12-29</td>\n",
       "      <td>16552.322266</td>\n",
       "      <td>16651.755859</td>\n",
       "      <td>16508.683594</td>\n",
       "      <td>16642.341797</td>\n",
       "      <td>16642.341797</td>\n",
       "      <td>14472237479</td>\n",
       "    </tr>\n",
       "    <tr>\n",
       "      <th>1094</th>\n",
       "      <td>2022-12-30</td>\n",
       "      <td>16641.330078</td>\n",
       "      <td>16643.427734</td>\n",
       "      <td>16408.474609</td>\n",
       "      <td>16602.585938</td>\n",
       "      <td>16602.585938</td>\n",
       "      <td>15929162910</td>\n",
       "    </tr>\n",
       "    <tr>\n",
       "      <th>1095</th>\n",
       "      <td>2022-12-31</td>\n",
       "      <td>16603.673828</td>\n",
       "      <td>16628.986328</td>\n",
       "      <td>16517.519531</td>\n",
       "      <td>16547.496094</td>\n",
       "      <td>16547.496094</td>\n",
       "      <td>11239186456</td>\n",
       "    </tr>\n",
       "    <tr>\n",
       "      <th>1096</th>\n",
       "      <td>2023-01-01</td>\n",
       "      <td>16547.914063</td>\n",
       "      <td>16630.439453</td>\n",
       "      <td>16521.234375</td>\n",
       "      <td>16625.080078</td>\n",
       "      <td>16625.080078</td>\n",
       "      <td>9244361700</td>\n",
       "    </tr>\n",
       "  </tbody>\n",
       "</table>\n",
       "</div>"
      ],
      "text/plain": [
       "            Date          Open          High           Low         Close  \\\n",
       "1092  2022-12-28  16716.400391  16768.169922  16497.556641  16552.572266   \n",
       "1093  2022-12-29  16552.322266  16651.755859  16508.683594  16642.341797   \n",
       "1094  2022-12-30  16641.330078  16643.427734  16408.474609  16602.585938   \n",
       "1095  2022-12-31  16603.673828  16628.986328  16517.519531  16547.496094   \n",
       "1096  2023-01-01  16547.914063  16630.439453  16521.234375  16625.080078   \n",
       "\n",
       "         Adj Close       Volume  \n",
       "1092  16552.572266  17005713920  \n",
       "1093  16642.341797  14472237479  \n",
       "1094  16602.585938  15929162910  \n",
       "1095  16547.496094  11239186456  \n",
       "1096  16625.080078   9244361700  "
      ]
     },
     "execution_count": 2,
     "metadata": {},
     "output_type": "execute_result"
    }
   ],
   "source": [
    "# load CSV file data\n",
    "df = pd.read_csv(\"BTC-USD.csv\")\n",
    "df.tail()"
   ]
  },
  {
   "cell_type": "code",
   "execution_count": 3,
   "metadata": {},
   "outputs": [
    {
     "data": {
      "text/html": [
       "<div>\n",
       "<style scoped>\n",
       "    .dataframe tbody tr th:only-of-type {\n",
       "        vertical-align: middle;\n",
       "    }\n",
       "\n",
       "    .dataframe tbody tr th {\n",
       "        vertical-align: top;\n",
       "    }\n",
       "\n",
       "    .dataframe thead th {\n",
       "        text-align: right;\n",
       "    }\n",
       "</style>\n",
       "<table border=\"1\" class=\"dataframe\">\n",
       "  <thead>\n",
       "    <tr style=\"text-align: right;\">\n",
       "      <th></th>\n",
       "      <th>Date</th>\n",
       "      <th>Open</th>\n",
       "      <th>High</th>\n",
       "      <th>Low</th>\n",
       "      <th>Close</th>\n",
       "      <th>Adj Close</th>\n",
       "      <th>Volume</th>\n",
       "    </tr>\n",
       "  </thead>\n",
       "  <tbody>\n",
       "    <tr>\n",
       "      <th>0</th>\n",
       "      <td>2020-01-01</td>\n",
       "      <td>7194.892090</td>\n",
       "      <td>7254.330566</td>\n",
       "      <td>7174.944336</td>\n",
       "      <td>7200.174316</td>\n",
       "      <td>7200.174316</td>\n",
       "      <td>18565664997</td>\n",
       "    </tr>\n",
       "    <tr>\n",
       "      <th>1</th>\n",
       "      <td>2020-01-02</td>\n",
       "      <td>7202.551270</td>\n",
       "      <td>7212.155273</td>\n",
       "      <td>6935.270020</td>\n",
       "      <td>6985.470215</td>\n",
       "      <td>6985.470215</td>\n",
       "      <td>20802083465</td>\n",
       "    </tr>\n",
       "    <tr>\n",
       "      <th>2</th>\n",
       "      <td>2020-01-03</td>\n",
       "      <td>6984.428711</td>\n",
       "      <td>7413.715332</td>\n",
       "      <td>6914.996094</td>\n",
       "      <td>7344.884277</td>\n",
       "      <td>7344.884277</td>\n",
       "      <td>28111481032</td>\n",
       "    </tr>\n",
       "    <tr>\n",
       "      <th>3</th>\n",
       "      <td>2020-01-04</td>\n",
       "      <td>7345.375488</td>\n",
       "      <td>7427.385742</td>\n",
       "      <td>7309.514160</td>\n",
       "      <td>7410.656738</td>\n",
       "      <td>7410.656738</td>\n",
       "      <td>18444271275</td>\n",
       "    </tr>\n",
       "    <tr>\n",
       "      <th>4</th>\n",
       "      <td>2020-01-05</td>\n",
       "      <td>7410.451660</td>\n",
       "      <td>7544.497070</td>\n",
       "      <td>7400.535645</td>\n",
       "      <td>7411.317383</td>\n",
       "      <td>7411.317383</td>\n",
       "      <td>19725074095</td>\n",
       "    </tr>\n",
       "  </tbody>\n",
       "</table>\n",
       "</div>"
      ],
      "text/plain": [
       "         Date         Open         High          Low        Close  \\\n",
       "0  2020-01-01  7194.892090  7254.330566  7174.944336  7200.174316   \n",
       "1  2020-01-02  7202.551270  7212.155273  6935.270020  6985.470215   \n",
       "2  2020-01-03  6984.428711  7413.715332  6914.996094  7344.884277   \n",
       "3  2020-01-04  7345.375488  7427.385742  7309.514160  7410.656738   \n",
       "4  2020-01-05  7410.451660  7544.497070  7400.535645  7411.317383   \n",
       "\n",
       "     Adj Close       Volume  \n",
       "0  7200.174316  18565664997  \n",
       "1  6985.470215  20802083465  \n",
       "2  7344.884277  28111481032  \n",
       "3  7410.656738  18444271275  \n",
       "4  7411.317383  19725074095  "
      ]
     },
     "execution_count": 3,
     "metadata": {},
     "output_type": "execute_result"
    }
   ],
   "source": [
    "df.head()"
   ]
  },
  {
   "cell_type": "markdown",
   "metadata": {},
   "source": [
    "- **```info()```** This method prints information about the DataFrame"
   ]
  },
  {
   "cell_type": "code",
   "execution_count": 3,
   "metadata": {},
   "outputs": [
    {
     "name": "stdout",
     "output_type": "stream",
     "text": [
      "<class 'pandas.core.frame.DataFrame'>\n",
      "RangeIndex: 1097 entries, 0 to 1096\n",
      "Data columns (total 7 columns):\n",
      " #   Column     Non-Null Count  Dtype  \n",
      "---  ------     --------------  -----  \n",
      " 0   Date       1097 non-null   object \n",
      " 1   Open       1097 non-null   float64\n",
      " 2   High       1097 non-null   float64\n",
      " 3   Low        1097 non-null   float64\n",
      " 4   Close      1097 non-null   float64\n",
      " 5   Adj Close  1097 non-null   float64\n",
      " 6   Volume     1097 non-null   int64  \n",
      "dtypes: float64(5), int64(1), object(1)\n",
      "memory usage: 60.1+ KB\n"
     ]
    }
   ],
   "source": [
    "# quick look at out data types & null counts\n",
    "df.info()"
   ]
  },
  {
   "cell_type": "markdown",
   "metadata": {},
   "source": [
    "- **```isnull().sum()```** This method checks whether the Dataframe contains missing values in each row and column."
   ]
  },
  {
   "cell_type": "code",
   "execution_count": 4,
   "metadata": {},
   "outputs": [
    {
     "data": {
      "text/plain": [
       "Date         0\n",
       "Open         0\n",
       "High         0\n",
       "Low          0\n",
       "Close        0\n",
       "Adj Close    0\n",
       "Volume       0\n",
       "dtype: int64"
      ]
     },
     "execution_count": 4,
     "metadata": {},
     "output_type": "execute_result"
    }
   ],
   "source": [
    "# check if any missing values\n",
    "df.isnull().sum()"
   ]
  },
  {
   "cell_type": "markdown",
   "metadata": {},
   "source": [
    "- extracts values from columns and gets an array.\n",
    "- arrays can be used for scaling, sequence generation, or model training."
   ]
  },
  {
   "cell_type": "code",
   "execution_count": 5,
   "metadata": {},
   "outputs": [],
   "source": [
    "df = df[['Open', 'High', 'Low', 'Close', 'Adj Close', 'Volume']].values "
   ]
  },
  {
   "cell_type": "markdown",
   "metadata": {},
   "source": [
    "#### Scale the Data"
   ]
  },
  {
   "cell_type": "markdown",
   "metadata": {},
   "source": [
    "**```scaler = MinMaxScaler(feature_range = (0, 1))```**: This line creates an instance of the MinMaxScaler class. The ``feature_range`` parameter specifies the desired range for the scaled value. In this case, the range is set to (0, 1), which means that the scaled value will be between 0 and 1.\n",
    "\n",
    "**```scaled_data = scaler.fit_transform(df)```**: The ``fit_transform()`` method of the scaler object is used to perform scaling operations on the data. It takes the input data df as an argument and returns the scaled data. Method ``fit_transform()`` performs two steps: first calculating the minimum and maximum values of the input data (fitting step), and then scaling the data using the calculated values (transformation step)."
   ]
  },
  {
   "cell_type": "code",
   "execution_count": 6,
   "metadata": {
    "id": "Gpi9jftlVSLv"
   },
   "outputs": [],
   "source": [
    "scaler = MinMaxScaler(feature_range=(0, 1))\n",
    "scaled_data = scaler.fit_transform(df)"
   ]
  },
  {
   "cell_type": "markdown",
   "metadata": {},
   "source": [
    "By applying **MinMaxScaler**, the data is transformed to a common scale where the minimum value of each feature becomes 0 and the maximum value becomes 1. This is useful to ensure that all features have equal influence on the machine learning model and prevents certain features from dominating others due to their larger scale."
   ]
  },
  {
   "cell_type": "markdown",
   "metadata": {},
   "source": [
    "#### Create Sequences for LSTM Input"
   ]
  },
  {
   "cell_type": "code",
   "execution_count": 7,
   "metadata": {
    "id": "iv2bx_ACVaIS"
   },
   "outputs": [],
   "source": [
    "# create sequences for LSTM input\n",
    "def create_sequences(data, seq_length):\n",
    "    X = []\n",
    "    y = []\n",
    "    for i in range(len(data) - seq_length):\n",
    "        X.append(data[i:i+seq_length])\n",
    "        y.append(data[i+seq_length])\n",
    "    return np.array(X), np.array(y)\n",
    "\n",
    "seq_length = 10  # Length of input sequences\n",
    "X, y = create_sequences(scaled_data, seq_length)"
   ]
  },
  {
   "cell_type": "markdown",
   "metadata": {},
   "source": [
    "1. The ```create_sequences()``` function takes two inputs: ```data```, which is the input data, and ```seq_length```, which is the desired length of the input sequence.\n",
    "\n",
    "2. Two empty lists, X and y, are initialized to store the input sequence and target value.\n",
    "\n",
    "3. The function iterates over the data starting from the beginning and creates input-output pairs. For each iteration, it takes the sequence of length ```seq_length``` from the data and adds it to X, and the next value in the data to y.\n",
    "\n",
    "4. After looping, the function returns X and y as a numpy array.\n",
    "\n",
    "5. The function is called with ```scaled_data``` as input data and ```seq_length``` is set to 10. The resulting sequence is stored in variables X and y."
   ]
  },
  {
   "cell_type": "markdown",
   "metadata": {},
   "source": [
    "#### Splitting the Data into Training and Testing Sets"
   ]
  },
  {
   "cell_type": "markdown",
   "metadata": {},
   "source": [
    "Training and testing sets using an 80-20 split"
   ]
  },
  {
   "cell_type": "code",
   "execution_count": 8,
   "metadata": {
    "id": "5Hsxwc0zVaic"
   },
   "outputs": [],
   "source": [
    "train_size = int(len(X) * 0.8)\n",
    "X_train, X_test = X[:train_size], X[train_size:]\n",
    "y_train, y_test = y[:train_size], y[train_size:]"
   ]
  },
  {
   "cell_type": "markdown",
   "metadata": {},
   "source": [
    "1. The variable **```train_size```** is calculated as 80% of the total number of input sequences (X).\n",
    "2. The **```X_train```** is set as the first train_size sequence of X, which represents the training set.\n",
    "3. **```X_test```** is assigned the remaining sequence of X, which represents the testing set.\n",
    "4. Similarly, **```y_train```** is given the first **```train_size```** target value of y, and **```y_test```** is given the remaining target values."
   ]
  },
  {
   "cell_type": "markdown",
   "metadata": {},
   "source": [
    "#### Build the LSTM Model"
   ]
  },
  {
   "cell_type": "code",
   "execution_count": 9,
   "metadata": {
    "id": "V6cSUJXvVdFn"
   },
   "outputs": [],
   "source": [
    "model = Sequential()\n",
    "model.add(LSTM(64, input_shape=(seq_length, 6)))  # Update input shape\n",
    "model.add(Dense(6))  # Output has 6 features"
   ]
  },
  {
   "cell_type": "markdown",
   "metadata": {},
   "source": [
    "1. **```model = Sequential()```**: This line creates an empty Sequential model.\n",
    "2. **```model.add(LSTM(64, input_shape = (seq_length, 6)))```**: This line adds the LSTM layer to the model. The LSTM layer has 64 units and expects an input sequence of length ``seq_length`` with 6 features.\n",
    "3. **```model.add(Dense(6))```**: This line adds the Dense layer to the model. The Dense layer has 6 neurons, which corresponds to the desired number of output features."
   ]
  },
  {
   "cell_type": "markdown",
   "metadata": {},
   "source": [
    "#### Set the Learning Rate with an Optimizer"
   ]
  },
  {
   "cell_type": "code",
   "execution_count": 10,
   "metadata": {
    "id": "eepblNPBVeRe"
   },
   "outputs": [],
   "source": [
    "learning_rate = 0.001\n",
    "optimizer = Adam(learning_rate=learning_rate)"
   ]
  },
  {
   "cell_type": "markdown",
   "metadata": {},
   "source": [
    "1. **```learning_rate = 0.001```**: This line assigns a learning rate of 0.001 to the learning_rate variable. The learning rate determines the step size at which the optimizer updates the model parameters during training.\n",
    "2. **```optimizer = Adam(learning_rate = learning_rate)```**: This line creates an example of the Adam optimizer with the specified learning rate. The Adam optimizer is a popular optimization algorithm used to train deep learning models."
   ]
  },
  {
   "cell_type": "markdown",
   "metadata": {},
   "source": [
    "#### Compile the Model"
   ]
  },
  {
   "cell_type": "code",
   "execution_count": 11,
   "metadata": {
    "id": "Gjayj1DGVe-l"
   },
   "outputs": [],
   "source": [
    "model.compile(optimizer=optimizer, \n",
    "              loss='mean_squared_error', \n",
    "              metrics=[MeanAbsoluteError()])"
   ]
  },
  {
   "cell_type": "markdown",
   "metadata": {},
   "source": [
    "1. **```optimizer=optimizer```**: This parameter specifies the optimizer that will be used to train the model. In this case, the optimizer variable contains an example of Adam's optimizer with the specified learning rate.\n",
    "\n",
    "2. **```loss = 'mean_squared_error'```**: This parameter specifies the loss function to be minimized during training. The mean squared error (MSE) loss function is commonly used for regression tasks, where the goal is to minimize the mean squared difference between the predicted and actual values.\n",
    "\n",
    "3. **```metrics = [MeanAbsoluteError()]```**: This parameter specifies the evaluation metrics to be calculated during training. In this case, the ```MeanAbsoluteError()``` metric is used. Mean absolute error (MAE) is a common metric for regression tasks, which measures the average absolute difference between predicted and actual values."
   ]
  },
  {
   "cell_type": "markdown",
   "metadata": {},
   "source": [
    "### Train Model"
   ]
  },
  {
   "cell_type": "code",
   "execution_count": 12,
   "metadata": {
    "colab": {
     "base_uri": "https://localhost:8080/"
    },
    "id": "Fx9gXNXUVf-1",
    "outputId": "bb7289b6-9fe0-4621-932b-4aba794a114b"
   },
   "outputs": [
    {
     "name": "stdout",
     "output_type": "stream",
     "text": [
      "Epoch 1/50\n",
      "28/28 [==============================] - 2s 4ms/step - loss: 0.0770 - mean_absolute_error: 0.1776\n",
      "Epoch 2/50\n",
      "28/28 [==============================] - 0s 4ms/step - loss: 0.0046 - mean_absolute_error: 0.0533\n",
      "Epoch 3/50\n",
      "28/28 [==============================] - 0s 4ms/step - loss: 0.0025 - mean_absolute_error: 0.0381\n",
      "Epoch 4/50\n",
      "28/28 [==============================] - 0s 4ms/step - loss: 0.0021 - mean_absolute_error: 0.0322\n",
      "Epoch 5/50\n",
      "28/28 [==============================] - 0s 4ms/step - loss: 0.0020 - mean_absolute_error: 0.0305\n",
      "Epoch 6/50\n",
      "28/28 [==============================] - 0s 4ms/step - loss: 0.0020 - mean_absolute_error: 0.0299\n",
      "Epoch 7/50\n",
      "28/28 [==============================] - 0s 4ms/step - loss: 0.0020 - mean_absolute_error: 0.0301\n",
      "Epoch 8/50\n",
      "28/28 [==============================] - 0s 4ms/step - loss: 0.0019 - mean_absolute_error: 0.0290\n",
      "Epoch 9/50\n",
      "28/28 [==============================] - 0s 4ms/step - loss: 0.0018 - mean_absolute_error: 0.0278\n",
      "Epoch 10/50\n",
      "28/28 [==============================] - 0s 4ms/step - loss: 0.0018 - mean_absolute_error: 0.0280\n",
      "Epoch 11/50\n",
      "28/28 [==============================] - 0s 4ms/step - loss: 0.0017 - mean_absolute_error: 0.0275\n",
      "Epoch 12/50\n",
      "28/28 [==============================] - 0s 4ms/step - loss: 0.0016 - mean_absolute_error: 0.0263\n",
      "Epoch 13/50\n",
      "28/28 [==============================] - 0s 4ms/step - loss: 0.0016 - mean_absolute_error: 0.0264\n",
      "Epoch 14/50\n",
      "28/28 [==============================] - 0s 4ms/step - loss: 0.0016 - mean_absolute_error: 0.0259\n",
      "Epoch 15/50\n",
      "28/28 [==============================] - 0s 4ms/step - loss: 0.0015 - mean_absolute_error: 0.0254\n",
      "Epoch 16/50\n",
      "28/28 [==============================] - 0s 4ms/step - loss: 0.0014 - mean_absolute_error: 0.0246\n",
      "Epoch 17/50\n",
      "28/28 [==============================] - 0s 4ms/step - loss: 0.0014 - mean_absolute_error: 0.0243\n",
      "Epoch 18/50\n",
      "28/28 [==============================] - 0s 4ms/step - loss: 0.0014 - mean_absolute_error: 0.0246\n",
      "Epoch 19/50\n",
      "28/28 [==============================] - 0s 4ms/step - loss: 0.0013 - mean_absolute_error: 0.0236\n",
      "Epoch 20/50\n",
      "28/28 [==============================] - 0s 4ms/step - loss: 0.0013 - mean_absolute_error: 0.0234\n",
      "Epoch 21/50\n",
      "28/28 [==============================] - 0s 4ms/step - loss: 0.0013 - mean_absolute_error: 0.0235\n",
      "Epoch 22/50\n",
      "28/28 [==============================] - 0s 4ms/step - loss: 0.0012 - mean_absolute_error: 0.0223\n",
      "Epoch 23/50\n",
      "28/28 [==============================] - 0s 4ms/step - loss: 0.0011 - mean_absolute_error: 0.0218\n",
      "Epoch 24/50\n",
      "28/28 [==============================] - 0s 4ms/step - loss: 0.0012 - mean_absolute_error: 0.0228\n",
      "Epoch 25/50\n",
      "28/28 [==============================] - 0s 4ms/step - loss: 0.0012 - mean_absolute_error: 0.0223\n",
      "Epoch 26/50\n",
      "28/28 [==============================] - 0s 4ms/step - loss: 0.0011 - mean_absolute_error: 0.0216\n",
      "Epoch 27/50\n",
      "28/28 [==============================] - 0s 4ms/step - loss: 0.0011 - mean_absolute_error: 0.0212\n",
      "Epoch 28/50\n",
      "28/28 [==============================] - 0s 4ms/step - loss: 0.0011 - mean_absolute_error: 0.0211\n",
      "Epoch 29/50\n",
      "28/28 [==============================] - 0s 4ms/step - loss: 0.0011 - mean_absolute_error: 0.0208\n",
      "Epoch 30/50\n",
      "28/28 [==============================] - 0s 4ms/step - loss: 0.0010 - mean_absolute_error: 0.0207\n",
      "Epoch 31/50\n",
      "28/28 [==============================] - 0s 4ms/step - loss: 0.0010 - mean_absolute_error: 0.0200\n",
      "Epoch 32/50\n",
      "28/28 [==============================] - 0s 4ms/step - loss: 0.0011 - mean_absolute_error: 0.0212\n",
      "Epoch 33/50\n",
      "28/28 [==============================] - 0s 4ms/step - loss: 0.0010 - mean_absolute_error: 0.0205\n",
      "Epoch 34/50\n",
      "28/28 [==============================] - 0s 4ms/step - loss: 9.6598e-04 - mean_absolute_error: 0.0198\n",
      "Epoch 35/50\n",
      "28/28 [==============================] - 0s 4ms/step - loss: 0.0010 - mean_absolute_error: 0.0200\n",
      "Epoch 36/50\n",
      "28/28 [==============================] - 0s 4ms/step - loss: 9.4816e-04 - mean_absolute_error: 0.0194\n",
      "Epoch 37/50\n",
      "28/28 [==============================] - 0s 4ms/step - loss: 9.8155e-04 - mean_absolute_error: 0.0200\n",
      "Epoch 38/50\n",
      "28/28 [==============================] - 0s 4ms/step - loss: 9.8535e-04 - mean_absolute_error: 0.0200\n",
      "Epoch 39/50\n",
      "28/28 [==============================] - 0s 4ms/step - loss: 8.9187e-04 - mean_absolute_error: 0.0186\n",
      "Epoch 40/50\n",
      "28/28 [==============================] - 0s 4ms/step - loss: 9.2261e-04 - mean_absolute_error: 0.0191\n",
      "Epoch 41/50\n",
      "28/28 [==============================] - 0s 4ms/step - loss: 9.4505e-04 - mean_absolute_error: 0.0193\n",
      "Epoch 42/50\n",
      "28/28 [==============================] - 0s 4ms/step - loss: 9.4574e-04 - mean_absolute_error: 0.0194\n",
      "Epoch 43/50\n",
      "28/28 [==============================] - 0s 4ms/step - loss: 9.9954e-04 - mean_absolute_error: 0.0199\n",
      "Epoch 44/50\n",
      "28/28 [==============================] - 0s 4ms/step - loss: 9.0936e-04 - mean_absolute_error: 0.0190\n",
      "Epoch 45/50\n",
      "28/28 [==============================] - 0s 4ms/step - loss: 9.0087e-04 - mean_absolute_error: 0.0187\n",
      "Epoch 46/50\n",
      "28/28 [==============================] - 0s 4ms/step - loss: 8.9373e-04 - mean_absolute_error: 0.0189\n",
      "Epoch 47/50\n",
      "28/28 [==============================] - 0s 4ms/step - loss: 0.0011 - mean_absolute_error: 0.0218\n",
      "Epoch 48/50\n",
      "28/28 [==============================] - 0s 4ms/step - loss: 9.8709e-04 - mean_absolute_error: 0.0197\n",
      "Epoch 49/50\n",
      "28/28 [==============================] - 0s 4ms/step - loss: 8.5723e-04 - mean_absolute_error: 0.0181\n",
      "Epoch 50/50\n",
      "28/28 [==============================] - 0s 4ms/step - loss: 8.8339e-04 - mean_absolute_error: 0.0186\n"
     ]
    }
   ],
   "source": [
    "epochs = 50\n",
    "batch_size = 32\n",
    "history = model.fit(X_train, y_train, epochs=epochs, batch_size=batch_size)"
   ]
  },
  {
   "cell_type": "markdown",
   "metadata": {},
   "source": [
    "#### Evaluate the Model"
   ]
  },
  {
   "cell_type": "code",
   "execution_count": 13,
   "metadata": {
    "colab": {
     "base_uri": "https://localhost:8080/"
    },
    "id": "Q0Py-3SoVkX8",
    "outputId": "d33f46c5-497d-496b-ca17-dd17be5e8ea3"
   },
   "outputs": [
    {
     "name": "stdout",
     "output_type": "stream",
     "text": [
      "7/7 [==============================] - 0s 2ms/step\n"
     ]
    }
   ],
   "source": [
    "predictions = model.predict(X_test)\n",
    "predictions = scaler.inverse_transform(predictions)\n",
    "y_test = scaler.inverse_transform(y_test)"
   ]
  },
  {
   "cell_type": "markdown",
   "metadata": {},
   "source": [
    "1. **```predict = model.predict(X_test)```**: This line uses the trained model to make predictions on the test data ``(X_test)``. The function ``model.predict()`` returns the predicted value for the given input data.\n",
    "\n",
    "2. **```predictions = scaler.inverse_transform(predictions)```**: This line applies the inverse transformation to the prediction values using the scaler. Since the data was previously scaled using MinMaxScaler, this step returns the prediction values to their original scale.\n",
    "\n",
    "3. **```y_test = scaler.inverse_transform(y_test)```**: This line applies an inverse transformation to the ground truth value (y_test) using the scaler. It returns the actual value to its original scale for comparison with the predicted value."
   ]
  },
  {
   "cell_type": "markdown",
   "metadata": {},
   "source": [
    "#### Checks if MAE is under 10% of the Total Scale of the Data"
   ]
  },
  {
   "cell_type": "code",
   "execution_count": 14,
   "metadata": {
    "id": "93o7u8baVoon"
   },
   "outputs": [],
   "source": [
    "mae = np.mean(np.abs(predictions - y_test))\n",
    "total_scale = np.max(df) - np.min(df)\n",
    "mae_percent = (mae / total_scale) * 100"
   ]
  },
  {
   "cell_type": "markdown",
   "metadata": {},
   "source": [
    "1. **```mae = np.mean(np.abs(prediction - y_test))```**: This line calculates the average absolute error (MAE) between the predicted value (prediction) and the ground truth value ```(y_test)```. The function ``np.abs()`` calculates the absolute difference between the predicted value and the actual value, and ``np.mean()`` calculates the average of these absolute differences.\n",
    "\n",
    "2. **```total_scale = np.max(df) - np.min(df)```**: This line calculates the total scale of the data by finding the difference between the maximum and minimum values in the original Dataframe (df).\n",
    "\n",
    "3. **```mae_percent = (mae / total_scale) * 100```**: This line calculates the MAE as a percentage of the total scale. It divides the MAE by the total scale and multiplies it by 100 to get the percentage value."
   ]
  },
  {
   "cell_type": "code",
   "execution_count": 15,
   "metadata": {
    "colab": {
     "base_uri": "https://localhost:8080/"
    },
    "id": "ThhEIjpqVpsC",
    "outputId": "65e64351-0378-4988-8da1-f9c7f9033f44"
   },
   "outputs": [
    {
     "name": "stdout",
     "output_type": "stream",
     "text": [
      "Mean Absolute Error (MAE): 1250926691.6012616\n",
      "MAE under 10% of total scale: True\n"
     ]
    }
   ],
   "source": [
    "print('Mean Absolute Error (MAE):', mae)\n",
    "print('MAE under 10% of total scale:', mae_percent <= 10)"
   ]
  },
  {
   "cell_type": "markdown",
   "metadata": {},
   "source": [
    "### Plotting of Loss"
   ]
  },
  {
   "cell_type": "code",
   "execution_count": 16,
   "metadata": {
    "colab": {
     "base_uri": "https://localhost:8080/",
     "height": 472
    },
    "id": "7dX39EFgVsJF",
    "outputId": "7adcc370-99e9-44c6-ba78-7d8ca223ae7f"
   },
   "outputs": [
    {
     "data": {
      "image/png": "[encoded data removed]",
      "text/plain": [
       "<Figure size 640x480 with 1 Axes>"
      ]
     },
     "metadata": {},
     "output_type": "display_data"
    }
   ],
   "source": [
    "plt.plot(history.history['loss'])\n",
    "plt.plot(history.history['mean_absolute_error'])\n",
    "plt.title('Model Loss')\n",
    "plt.ylabel('loss')\n",
    "plt.xlabel('epoch')\n",
    "plt.legend(['train', 'test'], loc='upper right')\n",
    "plt.show()"
   ]
  },
  {
   "cell_type": "code",
   "execution_count": null,
   "metadata": {
    "id": "a1HgFmy0W1C1"
   },
   "outputs": [],
   "source": []
  }
 ],
 "metadata": {
  "accelerator": "GPU",
  "colab": {
   "gpuType": "T4",
   "provenance": []
  },
  "kernelspec": {
   "display_name": "Python 3 (ipykernel)",
   "language": "python",
   "name": "python3"
  },
  "language_info": {
   "codemirror_mode": {
    "name": "ipython",
    "version": 3
   },
   "file_extension": ".py",
   "mimetype": "text/x-python",
   "name": "python",
   "nbconvert_exporter": "python",
   "pygments_lexer": "ipython3",
   "version": "3.10.9"
  }
 },
 "nbformat": 4,
 "nbformat_minor": 1
}
